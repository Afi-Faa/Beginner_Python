{
 "cells": [
  {
   "cell_type": "code",
   "execution_count": 3,
   "id": "80fe6ee8-2d87-4b38-895c-73453ca36a76",
   "metadata": {},
   "outputs": [
    {
     "name": "stdin",
     "output_type": "stream",
     "text": [
      "How many km run : 15\n",
      "how many passengers : 10\n"
     ]
    },
    {
     "name": "stdout",
     "output_type": "stream",
     "text": [
      "Profit earned : 695\n"
     ]
    }
   ],
   "source": [
    "#18\n",
    "k = int(input(\"How many km run :\"))\n",
    "n = int(input(\"how many passengers :\"))\n",
    "e = n * 80\n",
    "f = 7 * k\n",
    "d = abs(e-f)\n",
    "if e>f:\n",
    "    print(\"Profit earned :\",d)\n",
    "else:\n",
    "    print(\"-1\")\n",
    "    "
   ]
  },
  {
   "cell_type": "code",
   "execution_count": 15,
   "id": "60d81bb1-6427-459a-857a-76b518e4b006",
   "metadata": {},
   "outputs": [
    {
     "name": "stdin",
     "output_type": "stream",
     "text": [
      "Enter the string to be encoded(Must be in uppercase) :  AAAABBYYRRAA\n"
     ]
    },
    {
     "name": "stdout",
     "output_type": "stream",
     "text": [
      "4A2B2Y2R2A\n"
     ]
    }
   ],
   "source": [
    "#19\n",
    "def enc(s):\n",
    "    if not s.upper():\n",
    "        return \"\"\n",
    "    e = \"\"\n",
    "    c = 0\n",
    "    cc = s[0]\n",
    "    for i in s[:]:\n",
    "        if cc == i:\n",
    "            c += 1\n",
    "        else:\n",
    "            e += str(c)+cc \n",
    "            cc = i\n",
    "            c = 1\n",
    "    e += str(c)+cc \n",
    "    return e\n",
    "\n",
    "s = input(\"Enter the string to be encoded(Must be in uppercase) : \")\n",
    "e = enc(s)\n",
    "print(e)"
   ]
  },
  {
   "cell_type": "code",
   "execution_count": 7,
   "id": "b8a6bb1b-eddb-4db8-85f3-b9b96c73a947",
   "metadata": {},
   "outputs": [
    {
     "name": "stdout",
     "output_type": "stream",
     "text": [
      "1A4B8C1A1B\n"
     ]
    }
   ],
   "source": [
    "## From Github\n",
    "def encode(message):\n",
    "    count = 0\n",
    "    chatacter = ''\n",
    "    previous_char = message[0]\n",
    "    result = ''\n",
    "    length = len(message) \n",
    "    \n",
    "    i = 0\n",
    "    while (i != length ):\n",
    "        chatacter = message[i]\n",
    "        \n",
    "        if previous_char == chatacter :\n",
    "            count = count + 1\n",
    "        else :\n",
    "            result = result + str(count) + previous_char\n",
    "            count = 1\n",
    "        #print(str(i) + str(chatacter) + str(previous_char) + \"          \" + str(result))\n",
    "        previous_char = chatacter\n",
    "        i = i + 1\n",
    "        \n",
    "    return result + str(count) + str(previous_char)\n",
    "\n",
    "\n",
    "encoded_message=encode(\"ABBBBCCCCCCCCAB\")\n",
    "print(encoded_message)\n",
    "\n"
   ]
  },
  {
   "cell_type": "code",
   "execution_count": 65,
   "id": "8a1b4d58-556e-475d-94ae-a2e262a87065",
   "metadata": {},
   "outputs": [
    {
     "name": "stdin",
     "output_type": "stream",
     "text": [
      "Enter a string:  Madam in Eden I m Adam\n"
     ]
    },
    {
     "name": "stdout",
     "output_type": "stream",
     "text": [
      "True\n"
     ]
    }
   ],
   "source": [
    "#20\n",
    "def check_palindrome(s):\n",
    "    #l = len(s)\n",
    "    s = s.replace(\" \", \"\")\n",
    "   # print(s)\n",
    "    if s == s[::-1]:\n",
    "        return True\n",
    "    else:\n",
    "        return False\n",
    "\n",
    "s = input(\"Enter a string:\")\n",
    "s = s.lower()\n",
    "#print(s)\n",
    "p = check_palindrome(s)\n",
    "print(p)\n",
    "    "
   ]
  },
  {
   "cell_type": "code",
   "execution_count": 93,
   "id": "36b705e2-c3fe-4767-8f11-99629519a954",
   "metadata": {},
   "outputs": [
    {
     "name": "stdin",
     "output_type": "stream",
     "text": [
      "Enter the paitent list  [101,O,102,E,302,P,305,P,401,E,656,O,987,E]\n"
     ]
    },
    {
     "name": "stdout",
     "output_type": "stream",
     "text": [
      "ENT\n"
     ]
    }
   ],
   "source": [
    "#21\n",
    "d = {\"P\":\"Pediatrics\",\"O\":\"Orthopedics\",\"E\":\"ENT\"}\n",
    "n = input(\"Enter the paitent list \")\n",
    "n = n.strip('[]').split(',')\n",
    "c = {}\n",
    "for i in n:\n",
    "    if i in d:\n",
    "        if i not in c:\n",
    "            c[i] = 0\n",
    "        c[i] += 1\n",
    "\n",
    "m = max(c,key=c.get)\n",
    "\n",
    "\n",
    "print(d[m])"
   ]
  },
  {
   "cell_type": "code",
   "execution_count": null,
   "id": "b4be70f1-ef28-493d-aa35-b8141d3c62d7",
   "metadata": {},
   "outputs": [],
   "source": []
  }
 ],
 "metadata": {
  "kernelspec": {
   "display_name": "Python 3 (ipykernel)",
   "language": "python",
   "name": "python3"
  },
  "language_info": {
   "codemirror_mode": {
    "name": "ipython",
    "version": 3
   },
   "file_extension": ".py",
   "mimetype": "text/x-python",
   "name": "python",
   "nbconvert_exporter": "python",
   "pygments_lexer": "ipython3",
   "version": "3.12.4"
  }
 },
 "nbformat": 4,
 "nbformat_minor": 5
}
