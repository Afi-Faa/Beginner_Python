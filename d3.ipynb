{
 "cells": [
  {
   "cell_type": "code",
   "execution_count": 21,
   "id": "67508602-17d6-4e6a-8c31-c908eb142463",
   "metadata": {},
   "outputs": [
    {
     "name": "stdin",
     "output_type": "stream",
     "text": [
      "Enter a year 2025\n"
     ]
    },
    {
     "name": "stdout",
     "output_type": "stream",
     "text": [
      "The Next 15 Years leap years are :\n",
      "[2028, 2032, 2036, 2040, 2044, 2048, 2052, 2056, 2060, 2064, 2068, 2072, 2076, 2080, 2084]\n"
     ]
    }
   ],
   "source": [
    "## prob 11\n",
    "lp = int(input(\"Enter a year\"))\n",
    "l = []\n",
    "if (lp%4 == 0 and lp%100 != 0) or (lp % 400 == 0):\n",
    "    a = lp + (15 * 4)\n",
    "    for i in range(lp,a,4):\n",
    "        l.append(i)\n",
    "else:\n",
    "    while not (lp%4 == 0 and lp%100 != 0) or (lp % 400 == 0):\n",
    "        lp += 1\n",
    "        if (lp%4 == 0 and lp%100 != 0) or (lp % 400 == 0):\n",
    "            a = lp + (15 * 4)\n",
    "            for i in range(lp,a,4):\n",
    "                l.append(i)\n",
    "print(\"The Next 15 Years leap years are :\")\n",
    "print(l)"
   ]
  },
  {
   "cell_type": "code",
   "execution_count": null,
   "id": "a3945d25-be71-4315-ad2f-3f3932dcbda1",
   "metadata": {},
   "outputs": [],
   "source": []
  },
  {
   "cell_type": "code",
   "execution_count": 48,
   "id": "672ae367-de3e-4566-8c10-8e7e941c7094",
   "metadata": {},
   "outputs": [
    {
     "name": "stdout",
     "output_type": "stream",
     "text": [
      "Total bill is  68347.75\n"
     ]
    }
   ],
   "source": [
    "#12\n",
    "gems_list=[\"Emerald\",\"Ivory\",\"Jasper\",\"Ruby\",\"Garnet\"]\n",
    "price_list=[1760,2119,1599,3920,3999]\n",
    "reqd_gems=[\"Ivory\",\"Emerald\",\"Garnet\"]\n",
    "reqd_quantity=[3,10,12]\n",
    "total = 0\n",
    "for i in range(len(reqd_gems)):\n",
    "    if reqd_gems[i] in gems_list:\n",
    "        ind = gems_list.index(reqd_gems[i])\n",
    "        total += price_list[ind] * reqd_quantity[i]\n",
    "    else:\n",
    "        total = -1\n",
    "        break\n",
    "if total>30000:\n",
    "    tot = total - (total * (5/100))\n",
    "print(\"Total bill is \", tot)"
   ]
  },
  {
   "cell_type": "code",
   "execution_count": 52,
   "id": "a9664bf3-ff97-4c2c-9f54-7501e7c59eca",
   "metadata": {},
   "outputs": [
    {
     "name": "stdin",
     "output_type": "stream",
     "text": [
      "Enter a number 1\n",
      "Enter a number 2\n",
      "Enter a number 3\n"
     ]
    },
    {
     "name": "stdout",
     "output_type": "stream",
     "text": [
      "three given numbers can not form the sides of a triangle.\n"
     ]
    }
   ],
   "source": [
    "#13\n",
    "a = int(input(\"Enter a number\"))\n",
    "b = int(input(\"Enter a number\"))\n",
    "c = int(input(\"Enter a number\"))\n",
    "if a+b>c and b+c>a and c+a>b:\n",
    "    print(\"three given numbers can form the sides of a triangle.\")\n",
    "else:\n",
    "     print(\"three given numbers can not form the sides of a triangle.\")\n",
    "    "
   ]
  },
  {
   "cell_type": "code",
   "execution_count": 66,
   "id": "662ab2bf-56f2-4726-b3d9-1455d62277bf",
   "metadata": {},
   "outputs": [
    {
     "name": "stdin",
     "output_type": "stream",
     "text": [
      "Name of the airline : BI\n",
      "Name of the city Australia\n",
      "Name of the destination city Bankok\n",
      "Number of passengers 10\n"
     ]
    },
    {
     "name": "stdout",
     "output_type": "stream",
     "text": [
      "['BI:Aus:Ban:106', 'BI:Aus:Ban:107', 'BI:Aus:Ban:108', 'BI:Aus:Ban:109', 'BI:Aus:Ban:110']\n"
     ]
    }
   ],
   "source": [
    "#16\n",
    "airline = input(\"Name of the airline :\")\n",
    "source = input(\"Name of the city\")\n",
    "destination = input(\"Name of the destination city\")\n",
    "src = source[:3]\n",
    "des = destination[:3]\n",
    "p = int(input(\"Number of passengers\"))\n",
    "l = []\n",
    "for i in range(p):\n",
    "    n = 101 + i\n",
    "    t = f\"{airline}:{src}:{des}:{n}\"\n",
    "    l.append(t)\n",
    "if p < 5:\n",
    "    r = l\n",
    "else:\n",
    "    r=l[-5:]\n",
    "print(r)"
   ]
  },
  {
   "cell_type": "code",
   "execution_count": 45,
   "id": "5b2418e1-6910-450d-b160-55c80b994f85",
   "metadata": {},
   "outputs": [
    {
     "name": "stdin",
     "output_type": "stream",
     "text": [
      "Enter the number of heads : 5\n",
      "Enter the number of legs : 10\n"
     ]
    },
    {
     "name": "stdout",
     "output_type": "stream",
     "text": [
      "(5, 0)\n"
     ]
    }
   ],
   "source": [
    "#14\n",
    "def count(h,l):\n",
    "    r = (l - 2*h)/2\n",
    "    c = h - r\n",
    "    if c.is_integer() and r.is_integer():\n",
    "         return int(c),int(r)\n",
    "    else:\n",
    "        return \"No solution\"\n",
    "h = int(input(\"Enter the number of heads :\"))\n",
    "l = int(input(\"Enter the number of legs :\"))\n",
    "g = count(h,l)\n",
    "print(g)\n",
    "\n"
   ]
  },
  {
   "cell_type": "code",
   "execution_count": 63,
   "id": "3ed92122-2de8-44cd-b903-16389ae1a3cb",
   "metadata": {},
   "outputs": [
    {
     "name": "stdin",
     "output_type": "stream",
     "text": [
      "Enter the value :  10\n",
      "Enter the value :  30\n"
     ]
    },
    {
     "name": "stdout",
     "output_type": "stream",
     "text": [
      "30\n"
     ]
    }
   ],
   "source": [
    "#15\n",
    "l = []\n",
    "n = int(input(\"Enter the value : \"))\n",
    "n1 = int(input(\"Enter the value : \"))\n",
    "for i in range(n,n1+1):\n",
    "    if n<n1:\n",
    "        digits = [int(digit) for digit in str(i)]  # Split integer into digits\n",
    "        if sum(digits) % 3 == 0 and i % 5 == 0:\n",
    "            #print(i)\n",
    "            l.append(i)\n",
    "print(max(l))"
   ]
  },
  {
   "cell_type": "code",
   "execution_count": null,
   "id": "4a75384e-1353-42ed-a034-bbe898334016",
   "metadata": {},
   "outputs": [],
   "source": []
  }
 ],
 "metadata": {
  "kernelspec": {
   "display_name": "Python 3 (ipykernel)",
   "language": "python",
   "name": "python3"
  },
  "language_info": {
   "codemirror_mode": {
    "name": "ipython",
    "version": 3
   },
   "file_extension": ".py",
   "mimetype": "text/x-python",
   "name": "python",
   "nbconvert_exporter": "python",
   "pygments_lexer": "ipython3",
   "version": "3.12.4"
  }
 },
 "nbformat": 4,
 "nbformat_minor": 5
}
