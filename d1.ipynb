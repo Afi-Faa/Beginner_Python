{
 "cells": [
  {
   "cell_type": "markdown",
   "id": "42f7265f-4868-4b41-a49e-2a73ef7c1205",
   "metadata": {},
   "source": [
    "#  Write a code to find the minimum among three given numbers\r"
   ]
  },
  {
   "cell_type": "code",
   "execution_count": 1,
   "id": "962aafa2-c17f-4976-a9a2-87e814c244c8",
   "metadata": {},
   "outputs": [
    {
     "name": "stdin",
     "output_type": "stream",
     "text": [
      "Enter the 1st number :  2\n",
      "Enter the 1st number :  4\n",
      "Enter the 1st number :  1\n"
     ]
    },
    {
     "name": "stdout",
     "output_type": "stream",
     "text": [
      "1\n"
     ]
    }
   ],
   "source": [
    "#1\n",
    "a = input(\"Enter the 1st number : \")\n",
    "b= input(\"Enter the 1st number : \")\n",
    "c = input(\"Enter the 1st number : \")\n",
    "print(min(a,b,c))"
   ]
  },
  {
   "cell_type": "code",
   "execution_count": 13,
   "id": "b401ee6e-6c29-415c-8013-7a3bca32b091",
   "metadata": {},
   "outputs": [
    {
     "name": "stdin",
     "output_type": "stream",
     "text": [
      "How many numbers you want to compare? 4\n",
      "Enter the num 5\n",
      "Enter the num 3\n",
      "Enter the num 8\n",
      "Enter the num 2\n"
     ]
    },
    {
     "name": "stdout",
     "output_type": "stream",
     "text": [
      "2\n"
     ]
    }
   ],
   "source": [
    "# the numbers maybe vary\n",
    "n=int(input(\"How many numbers you want to compare?\"))\n",
    "minval = None\n",
    "for i in range(n):\n",
    "    num = int(input(\"Enter the num\"))\n",
    "    if minval is None or minval > num:\n",
    "        minval= num\n",
    "        \n",
    "print(minval)"
   ]
  },
  {
   "cell_type": "markdown",
   "id": "a029f5ee-4600-4cbb-9e5d-57dd31adee35",
   "metadata": {},
   "source": [
    "# Write a code to check whether a given number is a palindrome."
   ]
  },
  {
   "cell_type": "code",
   "execution_count": 15,
   "id": "0bcd75a4-f58b-44c1-a73b-4cf806317b77",
   "metadata": {},
   "outputs": [
    {
     "name": "stdin",
     "output_type": "stream",
     "text": [
      "enter a num  22\n"
     ]
    },
    {
     "name": "stdout",
     "output_type": "stream",
     "text": [
      "yes 22 is a palindrome number\n"
     ]
    }
   ],
   "source": [
    "#2\n",
    "p = input(\"enter a num \") # wanted to know a num is palindrome\n",
    "if p.isalnum():\n",
    "    if p == p[::-1]:\n",
    "        print(\"yes\" ,p,\"is a palindrome number\")\n",
    "    else:\n",
    "        print(\"Ops no wrong!\")"
   ]
  },
  {
   "cell_type": "code",
   "execution_count": null,
   "id": "8cc70356-f628-4265-8edf-9e88c96bc90c",
   "metadata": {},
   "outputs": [],
   "source": [
    "#3\n",
    "n = int(input(\"Enter how many number you want to add :\"))\n",
    "sum = 0\n",
    "for i in range(n):\n",
    "    num = int(input(\"Enter the num\"))\n",
    "    if num%4==0:\n",
    "        sum += num\n",
    "print(sum)"
   ]
  },
  {
   "cell_type": "code",
   "execution_count": null,
   "id": "49909707-02d0-4602-9012-e7e8b5a8ffeb",
   "metadata": {},
   "outputs": [],
   "source": [
    "#4\n",
    "n = input(\"enter an integer :\")\n",
    "l = len(n)\n",
    "sum = 0\n",
    "#print(l)\n",
    "for i in n:\n",
    "    print(i)\n",
    "    sum += int(i)**l\n",
    "print(sum)\n",
    "if sum == int(n):\n",
    "    print(\"Armstrong number is : \",n)\n",
    "else:\n",
    "    print(\"No\")"
   ]
  },
  {
   "cell_type": "code",
   "execution_count": null,
   "id": "7e42b2c1-ac32-4842-bab0-6b5256740188",
   "metadata": {},
   "outputs": [],
   "source": [
    "#5\n",
    "t = 500;\n",
    "for i in range(t):\n",
    "    b = input(\"Enter the branch Arts/ Engineering: \")\n",
    "    sc = int(input(\"Enter the score \"))\n",
    "    fee = float(input(\"Enter the course fee : \"))\n",
    "    if b == \"Arts\":\n",
    "        if sc>= 90:\n",
    "            schol = 50\n",
    "        elif sc%2!= 0:\n",
    "            schol = 5\n",
    "        else:\n",
    "            schol = 0\n",
    "    elif b == \"Engineering\":\n",
    "        if sc> 85:\n",
    "            schol = 50\n",
    "        elif sc % 7 ==0:\n",
    "            schol = 5\n",
    "        else:\n",
    "            schol = 0\n",
    "        \n",
    "    else:\n",
    "        schol = 0\n",
    "    sc_am = fee * (schol / 100)\n",
    "    final_fee = fee - sc_am\n",
    "    print(\"Branch :\",b)\n",
    "    print(\"Score :\",sc)\n",
    "    print(\"Course Fee : \",fee)\n",
    "    print(\"Scholarship parcentage :\", schol , \"%\")\n",
    "    print(\"Scholarship amount :\" , sc_am)\n",
    "    print(\"Total Course fee :\", final_fee)"
   ]
  },
  {
   "cell_type": "code",
   "execution_count": null,
   "id": "7c4f4644-5a82-4019-867d-4378ea5f20de",
   "metadata": {},
   "outputs": [],
   "source": [
    "#6\n",
    "a = int(input(\"How many number of adults? :\"))\n",
    "c = int(input(\"How many number of childs? :\"))\n",
    "ra = 37550.0\n",
    "ad_ra = a * ra\n",
    "c_rc = c * ra / 3\n",
    "sum = ad_ra + c_rc\n",
    "service = sum + (7/100)\n",
    "tc = service - (10/100)\n",
    "print(\"Total codt is :\", tc)\n"
   ]
  },
  {
   "cell_type": "code",
   "execution_count": null,
   "id": "889c810f-95eb-4937-b481-7a16dbf73e14",
   "metadata": {},
   "outputs": [],
   "source": [
    "#6 again\n",
    "a = int(input(\"How many number of adults? :\"))\n",
    "c = int(input(\"How many number of childs? :\"))\n",
    "ta=0\n",
    "tc=0\n",
    "for i in range(a):\n",
    "    ta += a * 37550.0\n",
    "    print(ta)\n",
    "for i in range(c):\n",
    "    tc += c * (1/3) * 37550.0\n",
    "    print(tc)\n",
    "sum = ta + tc\n",
    "print(sum)\n",
    "service = sum + (7/100)\n",
    "print(service)\n",
    "h_ser = service - (10/100)\n",
    "print(\"Total\",a+c,\"num of members cost are :\",h_ser)"
   ]
  }
 ],
 "metadata": {
  "kernelspec": {
   "display_name": "Python 3 (ipykernel)",
   "language": "python",
   "name": "python3"
  },
  "language_info": {
   "codemirror_mode": {
    "name": "ipython",
    "version": 3
   },
   "file_extension": ".py",
   "mimetype": "text/x-python",
   "name": "python",
   "nbconvert_exporter": "python",
   "pygments_lexer": "ipython3",
   "version": "3.12.4"
  }
 },
 "nbformat": 4,
 "nbformat_minor": 5
}
