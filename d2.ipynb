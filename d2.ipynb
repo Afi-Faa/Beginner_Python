{
 "cells": [
  {
   "cell_type": "code",
   "execution_count": 23,
   "id": "5daaa99b-03e3-406e-9ba2-e19fc17174d1",
   "metadata": {},
   "outputs": [
    {
     "name": "stdin",
     "output_type": "stream",
     "text": [
      "Enter a num : 19\n"
     ]
    },
    {
     "name": "stdout",
     "output_type": "stream",
     "text": [
      "Invalid\n"
     ]
    }
   ],
   "source": [
    "#7\n",
    "n = int(input(\"Enter a num :\"))\n",
    "if n%3 == 0 and n%5==0:\n",
    "    print(\"Zoom\")\n",
    "elif n%5==0:\n",
    "    print(\"Zap\")\n",
    "elif n%3==0:\n",
    "    print(\"Zip\")\n",
    "else:\n",
    "    print(\"Invalid\")"
   ]
  },
  {
   "cell_type": "code",
   "execution_count": 43,
   "id": "ab169ec8-a6d5-45df-8f16-6e73a099584f",
   "metadata": {},
   "outputs": [
    {
     "name": "stdin",
     "output_type": "stream",
     "text": [
      "Enter the score : 66\n"
     ]
    },
    {
     "name": "stdout",
     "output_type": "stream",
     "text": [
      "Grade C\n"
     ]
    }
   ],
   "source": [
    "#8\n",
    "score = int(input(\"Enter the score :\"))\n",
    "if score>= 80 and score<=100:\n",
    "    print(\"Grade A\")\n",
    "elif score>=73 and score<80:\n",
    "    print(\"Grade B\")\n",
    "elif score>=65 and score<=72:\n",
    "    print(\"Grade C\")\n",
    "elif score>=0 and score<=64:\n",
    "    print(\"Grade D\")\n",
    "else:\n",
    "    print(\"Grade Z\")"
   ]
  },
  {
   "cell_type": "code",
   "execution_count": 87,
   "id": "2a3ab1c3-e2ca-4330-bb5f-131f0ae52764",
   "metadata": {},
   "outputs": [
    {
     "name": "stdin",
     "output_type": "stream",
     "text": [
      "Enter the values 1\n",
      "Enter the values 5\n",
      "Enter the values 7\n"
     ]
    },
    {
     "name": "stdout",
     "output_type": "stream",
     "text": [
      "-1\n"
     ]
    }
   ],
   "source": [
    "#9\n",
    "n =3\n",
    "p =1\n",
    "v= []\n",
    "for i in range(n):\n",
    "    inp = int(input(\"Enter the values\"))\n",
    "    v.append(inp)\n",
    "if v[0] == 7 :\n",
    "    if v[1] == 7:\n",
    "        if v[2] == 7:\n",
    "            p = -1\n",
    "        else:\n",
    "            p = v[2]\n",
    "    elif v[1] != 7:\n",
    "        if v[2] != 7:\n",
    "            p = v[1]  * v[2]\n",
    "        else:\n",
    "            p = -1\n",
    "elif v[0] != 7:\n",
    "    if v[1]==7:\n",
    "        p = v[2]\n",
    "    else:\n",
    "        if v[2] == 7:\n",
    "            p = -1\n",
    "        else:\n",
    "            p = v[0] * v[1] * v[2]\n",
    "print(p)"
   ]
  },
  {
   "cell_type": "code",
   "execution_count": 173,
   "id": "c4c2e10d-74b6-4e5d-8f2f-9af1d2d1c75a",
   "metadata": {},
   "outputs": [
    {
     "name": "stdin",
     "output_type": "stream",
     "text": [
      "enter the 1 tk coins : 3\n",
      "enter the 5 tk note : 3\n",
      "enter the amount needed : 19\n"
     ]
    },
    {
     "name": "stdout",
     "output_type": "stream",
     "text": [
      "-1\n"
     ]
    }
   ],
   "source": [
    "#10\n",
    "c = int(input(\"enter the 1 tk coins :\"))\n",
    "t = int(input(\"enter the 5 tk note :\"))\n",
    "z = int(input(\"enter the amount needed :\"))\n",
    "tc = 1 * c\n",
    "tt = 5 * t\n",
    "nd = z-tt\n",
    "counter = 0\n",
    "ct = 0\n",
    "if z == tt:\n",
    "    counter = 0\n",
    "    ct = t\n",
    "elif z>tt:\n",
    "    ct = t\n",
    "    if nd <= tc:\n",
    "        counter = nd\n",
    "    else:\n",
    "        counter = -1\n",
    "elif z>(tc+tt):\n",
    "    counter = -1\n",
    "    ct = -1\n",
    "if counter != -1:\n",
    "    print(\"1tk coins needed :\",counter)\n",
    "    print(\"5tk note needed :\",ct)\n",
    "else:\n",
    "    print(\"-1\")\n"
   ]
  },
  {
   "cell_type": "code",
   "execution_count": null,
   "id": "8e569150-a946-4778-91c5-813ec88c6a23",
   "metadata": {},
   "outputs": [],
   "source": []
  }
 ],
 "metadata": {
  "kernelspec": {
   "display_name": "Python 3 (ipykernel)",
   "language": "python",
   "name": "python3"
  },
  "language_info": {
   "codemirror_mode": {
    "name": "ipython",
    "version": 3
   },
   "file_extension": ".py",
   "mimetype": "text/x-python",
   "name": "python",
   "nbconvert_exporter": "python",
   "pygments_lexer": "ipython3",
   "version": "3.12.4"
  }
 },
 "nbformat": 4,
 "nbformat_minor": 5
}
